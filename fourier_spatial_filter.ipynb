{
 "cells": [
  {
   "cell_type": "markdown",
   "metadata": {},
   "source": [
    "## Stimuli for Psychophysics Experiments based on fourier representation"
   ]
  },
  {
   "cell_type": "code",
   "execution_count": 6,
   "metadata": {},
   "outputs": [],
   "source": [
    "%matplotlib inline\n",
    "%config InlineBackend.print_figure_kwargs = {'dpi' : 200} #plotting pretty\n",
    "\n",
    "import imageio\n",
    "import matplotlib.pyplot as plt\n",
    "import numpy as np\n",
    "import os\n",
    "import scipy.fftpack\n",
    "import scipy.signal\n",
    "from scipy import interpolate\n",
    "#from tqdm import tqdm_notebook\n",
    "import imp as imp\n",
    "\n",
    "import utils.getstim as getstim\n",
    "import utils.imtools as imtools\n",
    "import utils.fouriertools as ftools\n",
    "import utils.wavelettools as wtools"
   ]
  },
  {
   "cell_type": "code",
   "execution_count": 15,
   "metadata": {},
   "outputs": [
    {
     "name": "stdout",
     "output_type": "stream",
     "text": [
      "Max stimulus resolution when viewed at 2°: 270.0 CPD\n"
     ]
    },
    {
     "name": "stderr",
     "output_type": "stream",
     "text": [
      "/home/vasha/anaconda3/lib/python3.6/site-packages/numpy/core/numeric.py:492: ComplexWarning: Casting complex values to real discards the imaginary part\n",
      "  return array(a, dtype, copy=False, order=order)\n"
     ]
    },
    {
     "name": "stdout",
     "output_type": "stream",
     "text": [
      "Wrote filtered_stims/spatial/fts/stepfun_raw_270cpd_ft.png\n"
     ]
    },
    {
     "name": "stderr",
     "output_type": "stream",
     "text": [
      "/home/vasha/research/wavelet_stim/utils/fouriertools.py:71: RuntimeWarning: invalid value encountered in true_divide\n",
      "  filtered_ft /= np.max(filtered_ft)\n",
      "/home/vasha/research/wavelet_stim/utils/fouriertools.py:73: RuntimeWarning: invalid value encountered in true_divide\n",
      "  filt_ft /= np.max(filt_ft)\n",
      "/home/vasha/anaconda3/lib/python3.6/site-packages/matplotlib/scale.py:111: RuntimeWarning: invalid value encountered in less_equal\n",
      "  out[a <= 0] = -1000\n"
     ]
    },
    {
     "name": "stdout",
     "output_type": "stream",
     "text": [
      "Wrote filtered_stims/spatial/stepfun_sharp_0cpd.png; filtered_stims/spatial/fts/stepfun_sharp_0cpd_ft.png\n",
      "Wrote filtered_stims/spatial/stepfun_sharp_50cpd.png; filtered_stims/spatial/fts/stepfun_sharp_50cpd_ft.png\n",
      "Wrote filtered_stims/spatial/stepfun_sharp_100cpd.png; filtered_stims/spatial/fts/stepfun_sharp_100cpd_ft.png\n",
      "Wrote filtered_stims/spatial/stepfun_sharp_150cpd.png; filtered_stims/spatial/fts/stepfun_sharp_150cpd_ft.png\n",
      "Wrote filtered_stims/spatial/stepfun_sharp_200cpd.png; filtered_stims/spatial/fts/stepfun_sharp_200cpd_ft.png\n",
      "Wrote filtered_stims/spatial/stepfun_sharp_250cpd.png; filtered_stims/spatial/fts/stepfun_sharp_250cpd_ft.png\n",
      "Wrote filtered_stims/spatial/fts/stepfun_raw_270cpd_ft.png\n",
      "Wrote filtered_stims/spatial/stepfun_cosine_step_0cpd.png; filtered_stims/spatial/fts/stepfun_cosine_step_0cpd_ft.png\n",
      "Wrote filtered_stims/spatial/stepfun_cosine_step_50cpd.png; filtered_stims/spatial/fts/stepfun_cosine_step_50cpd_ft.png\n",
      "Wrote filtered_stims/spatial/stepfun_cosine_step_100cpd.png; filtered_stims/spatial/fts/stepfun_cosine_step_100cpd_ft.png\n",
      "Wrote filtered_stims/spatial/stepfun_cosine_step_150cpd.png; filtered_stims/spatial/fts/stepfun_cosine_step_150cpd_ft.png\n",
      "Wrote filtered_stims/spatial/stepfun_cosine_step_200cpd.png; filtered_stims/spatial/fts/stepfun_cosine_step_200cpd_ft.png\n",
      "Wrote filtered_stims/spatial/stepfun_cosine_step_250cpd.png; filtered_stims/spatial/fts/stepfun_cosine_step_250cpd_ft.png\n",
      "Wrote filtered_stims/spatial/fts/stepfun_raw_270cpd_ft.png\n"
     ]
    },
    {
     "name": "stderr",
     "output_type": "stream",
     "text": [
      "/home/vasha/research/wavelet_stim/utils/fouriertools.py:126: UserWarning: Taper Top Negative - Won't reach full contrast.\n",
      "  warnings.warn('Taper Top Negative - Won\\'t reach full contrast.')\n"
     ]
    },
    {
     "name": "stdout",
     "output_type": "stream",
     "text": [
      "Wrote filtered_stims/spatial/stepfun_gauss_step_0cpd_warn.png; filtered_stims/spatial/fts/stepfungauss_step_0cpd_ft_warn.png\n",
      "Wrote filtered_stims/spatial/stepfun_gauss_step_50cpd.png; filtered_stims/spatial/fts/stepfun_gauss_step_50cpd_ft.png\n",
      "Wrote filtered_stims/spatial/stepfun_gauss_step_100cpd.png; filtered_stims/spatial/fts/stepfun_gauss_step_100cpd_ft.png\n",
      "Wrote filtered_stims/spatial/stepfun_gauss_step_150cpd.png; filtered_stims/spatial/fts/stepfun_gauss_step_150cpd_ft.png\n",
      "Wrote filtered_stims/spatial/stepfun_gauss_step_200cpd.png; filtered_stims/spatial/fts/stepfun_gauss_step_200cpd_ft.png\n",
      "Wrote filtered_stims/spatial/stepfun_gauss_step_250cpd.png; filtered_stims/spatial/fts/stepfun_gauss_step_250cpd_ft.png\n",
      "Wrote filtered_stims/spatial/fts/stepfun_raw_270cpd_ft.png\n"
     ]
    },
    {
     "name": "stderr",
     "output_type": "stream",
     "text": [
      "/home/vasha/research/wavelet_stim/utils/fouriertools.py:178: RuntimeWarning: divide by zero encountered in true_divide\n",
      "  filt = np.exp(-1.5*((fft_diameters*100000)/(sigma))**2)\n"
     ]
    },
    {
     "name": "stdout",
     "output_type": "stream",
     "text": [
      "Wrote filtered_stims/spatial/stepfun_gauss_taper_0cpd.png; filtered_stims/spatial/fts/stepfun_gauss_taper_0cpd_ft.png\n",
      "Wrote filtered_stims/spatial/stepfun_gauss_taper_50cpd.png; filtered_stims/spatial/fts/stepfun_gauss_taper_50cpd_ft.png\n",
      "Wrote filtered_stims/spatial/stepfun_gauss_taper_100cpd.png; filtered_stims/spatial/fts/stepfun_gauss_taper_100cpd_ft.png\n",
      "Wrote filtered_stims/spatial/stepfun_gauss_taper_150cpd.png; filtered_stims/spatial/fts/stepfun_gauss_taper_150cpd_ft.png\n",
      "Wrote filtered_stims/spatial/stepfun_gauss_taper_200cpd.png; filtered_stims/spatial/fts/stepfun_gauss_taper_200cpd_ft.png\n",
      "Wrote filtered_stims/spatial/stepfun_gauss_taper_250cpd.png; filtered_stims/spatial/fts/stepfun_gauss_taper_250cpd_ft.png\n"
     ]
    }
   ],
   "source": [
    "imp.reload(getstim)\n",
    "imp.reload(ftools)\n",
    "\n",
    "stim_px_w = 1080\n",
    "stim_px_h = 1080\n",
    "\n",
    "#calc degrees and cpd\n",
    "stim_deg = 2\n",
    "stim_cpd = (stim_px_w/2)/stim_deg\n",
    "print(f'Max stimulus resolution when viewed at {stim_deg}°: {stim_cpd:.1f} CPD')\n",
    "cut_offs = np.arange(0,stim_cpd, 50)\n",
    "#cut_offs = [np.sqrt(2)*stim_cpd, stim_cpd, 250, 220, 200, 180, 150, 120, 100, 50, 10, 5, 1]\n",
    "step_stim = getstim.step_stim(stim_px_w, stim_px_h, len_frames=1)\n",
    "\n",
    "stim_sharp_filt = getstim.generate_spatial_filtered_stims(step_stim, stim_deg, cut_offs, filt='sharp', stim_type='stepfun')\n",
    "stim_cosinestep_filt = getstim.generate_spatial_filtered_stims(step_stim, stim_deg, cut_offs, filt='cosine_step', stim_type='stepfun')\n",
    "stim_gausstep_filt = getstim.generate_spatial_filtered_stims(step_stim, stim_deg, cut_offs, filt='gauss_step', stim_type='stepfun')\n",
    "stim_gaustaper_filt = getstim.generate_spatial_filtered_stims(step_stim, stim_deg, cut_offs, filt='gauss_taper', stim_type='stepfun')"
   ]
  },
  {
   "cell_type": "code",
   "execution_count": null,
   "metadata": {},
   "outputs": [],
   "source": [
    "imp.reload(getstim)\n",
    "stim_px_w = 1080\n",
    "stim_px_h = 1080\n",
    "\n",
    "#calc degrees and cpd\n",
    "stim_deg = 2\n",
    "stim_cpd = (stim_px_w/2)/stim_deg\n",
    "print(f'Max stimulus resolution when viewed at {stim_deg}°: {stim_cpd:.1f} CPD')"
   ]
  },
  {
   "cell_type": "code",
   "execution_count": null,
   "metadata": {},
   "outputs": [],
   "source": [
    "# Step function\n",
    "#stim_step = np.hstack((np.ones((stim_pix, stim_pix//2)),\n",
    "                       #np.zeros((stim_pix, stim_pix//2))))\n",
    "stim_step = getstim.step_stim(stim_px_w, stim_px_h, orient=1, stepdn=True)\n",
    "f, ax = plt.subplots(1, 1, figsize=(4, 4))\n",
    "ax.imshow(stim_step, cmap='Greys_r')\n",
    "ax.set_title('Step Function')\n",
    "plt.show()"
   ]
  },
  {
   "cell_type": "code",
   "execution_count": null,
   "metadata": {},
   "outputs": [],
   "source": [
    "imp.reload(imtools)\n",
    "# Load images\n",
    "trail = imageio.imread(os.path.join('ims', 'trail.jpg'))\n",
    "cats = imageio.imread(os.path.join('ims', 'cats.jpg'))\n",
    "\n",
    "trail_gray = imtools.rgb2gray(trail)\n",
    "cats_gray = imtools.rgb2gray(cats)\n",
    "\n",
    "stim_trail = imtools.cropnresize(trail_gray, (stim_px_h,stim_px_w))\n",
    "stim_cats = imtools.cropnresize(cats_gray,(stim_px_h,stim_px_w))\n",
    "\n",
    "f, ax = plt.subplots(3, 2, figsize=(10, 15))\n",
    "ax[0, 0].imshow(trail)\n",
    "ax[0, 1].imshow(cats)\n",
    "ax[1, 0].imshow(trail_gray, cmap='gray')\n",
    "ax[1, 1].imshow(cats_gray, cmap='gray')\n",
    "ax[2, 0].imshow(stim_trail, cmap='gray')\n",
    "ax[2, 1].imshow(stim_cats, cmap='gray')\n",
    "for r in range(ax.shape[0]):\n",
    "    for c in range(ax.shape[1]):\n",
    "        ax[r, c].axis('off')\n",
    "plt.tight_layout()\n",
    "plt.show()"
   ]
  },
  {
   "cell_type": "code",
   "execution_count": null,
   "metadata": {},
   "outputs": [],
   "source": [
    "stim_sharp_filt = getstim.generate_filtered_stims(stim_cats, stim_deg, cut_offs, filt='sharp', stim_type='cats')\n",
    "stim_cosinestep_filt = getstim.generate_filtered_stims(stim_cats, stim_deg, cut_offs, filt='cosine_step', stim_type='cats')\n",
    "stim_gausstep_filt = getstim.generate_filtered_stims(stim_cats, stim_deg, cut_offs, filt='gauss_step', stim_type='cats')\n",
    "stim_gaustaper_filt = getstim.generate_filtered_stims(stim_cats, stim_deg, cut_offs, filt='gauss_taper', stim_type='cats')"
   ]
  },
  {
   "cell_type": "code",
   "execution_count": null,
   "metadata": {},
   "outputs": [],
   "source": [
    "f, ax = plt.subplots(1, 3, figsize=(15, 5))\n",
    "img, mag, phase, filt, warn_flag = ftools.fft_lowpass(stim_trail, 30, stim_cpd)\n",
    "ax[0].imshow(img, cmap='gray')\n",
    "ax[0].set_title('Reconstructed image')\n",
    "ax[1].imshow(np.log(mag), cmap='gray')\n",
    "ax[1].set_title('FFT log magnitude')\n",
    "ax[2].imshow(phase, cmap='gray')\n",
    "ax[2].set_title('FFT phase')\n",
    "for c in range(ax.shape[0]):\n",
    "    ax[c].axis('off')\n",
    "plt.tight_layout()\n",
    "plt.show()"
   ]
  },
  {
   "cell_type": "code",
   "execution_count": null,
   "metadata": {
    "scrolled": false
   },
   "outputs": [],
   "source": [
    "# Visualize the FFT magnitudes and phases for different cutoffs\n",
    "cutoffs = [np.sqrt(2)*stim_cpd, stim_cpd, 60, 30, 10, 5, 1]\n",
    "for idx, cut in enumerate(cutoffs):\n",
    "    f, ax = plt.subplots(1, 3, figsize=(15, 5))\n",
    "    img, mag, phase, filt, warn_flag = ftools.fft_lowpass(stim_cats, cut, stim_cpd)\n",
    "    ax[0].imshow(img, cmap='gray')\n",
    "    ax[0].set_title('Reconstructed image')\n",
    "    ax[1].imshow(np.log(mag), cmap='gray')\n",
    "    ax[1].set_title('FFT log magnitude')\n",
    "    ax[2].imshow(phase, cmap='gray')\n",
    "    ax[2].set_title('FFT phase')\n",
    "    for c in range(ax.shape[0]):\n",
    "        ax[c].axis('off')\n",
    "    plt.suptitle(f'Cutoff: {cut} CPD', y=1.025)\n",
    "    plt.tight_layout()\n",
    "    plt.show()"
   ]
  },
  {
   "cell_type": "code",
   "execution_count": null,
   "metadata": {
    "scrolled": false
   },
   "outputs": [],
   "source": [
    "# Visualize reconstuctions for different images\n",
    "cutoffs = [np.sqrt(2)*stim_cpd, stim_cpd, 60, 30, 10, 5, 1]\n",
    "for idx, cut in enumerate(cutoffs):\n",
    "    f, ax = plt.subplots(1, 3, figsize=(15, 5))\n",
    "    ax[0].imshow(ftools.fft_lowpass(stim_step, cut, stim_cpd)[0], cmap='gray')\n",
    "    ax[1].imshow(ftools.fft_lowpass(stim_trail, cut, stim_cpd)[0], cmap='gray')\n",
    "    ax[2].imshow(ftools.fft_lowpass(stim_cats, cut, stim_cpd)[0], cmap='gray')\n",
    "    for c in range(ax.shape[0]):\n",
    "        ax[c].axis('off')\n",
    "    plt.suptitle(f'Cutoff: {cut} CPD')\n",
    "    plt.tight_layout()\n",
    "    plt.show()"
   ]
  },
  {
   "cell_type": "code",
   "execution_count": null,
   "metadata": {},
   "outputs": [],
   "source": [
    "imp.reload(ftools)\n",
    "# Visualize the FFT magnitudes and phases for different cutoffs\n",
    "cutoffs = [np.sqrt(2)*stim_cpd, stim_cpd, 60, 30, 10, 5, 1]\n",
    "\n",
    "for idx, cut in enumerate(cutoffs):\n",
    "    f, ax = plt.subplots(1, 3, figsize=(15, 5))\n",
    "    img, mag, phase, scale, warn_flag = ftools.fft_lowpass(stim_cats, cut, stim_cpd,\n",
    "                                               filt_name='cosine_step')\n",
    "    ax[0].imshow(img, cmap='gray')\n",
    "    ax[0].set_title('Reconstructed image')\n",
    "    im = ax[1].imshow(np.log(mag), cmap='gray')\n",
    "    f.colorbar(im, ax=ax[1])\n",
    "    ax[1].set_title('FFT log magnitude')\n",
    "    #print(scale.shape)\n",
    "    #ax[2] = plt.hist(scale.flatten(),bins=100);\n",
    "    im = ax[2].imshow(scale)\n",
    "    #f.colorbar(im, ax=ax[2])\n",
    "    #ax[2].imshow(phase, cmap='gray')\n",
    "    #ax[2].set_title('FFT phase')\n",
    "    #for c in range(ax.shape[0]):\n",
    "    #    ax[c].axis('off')\n",
    "    plt.suptitle(f'Cutoff: {cut} CPD', y=1.025)\n",
    "    plt.tight_layout()\n",
    "    plt.show()"
   ]
  },
  {
   "cell_type": "code",
   "execution_count": null,
   "metadata": {},
   "outputs": [],
   "source": []
  }
 ],
 "metadata": {
  "kernelspec": {
   "display_name": "Python 3",
   "language": "python",
   "name": "python3"
  },
  "language_info": {
   "codemirror_mode": {
    "name": "ipython",
    "version": 3
   },
   "file_extension": ".py",
   "mimetype": "text/x-python",
   "name": "python",
   "nbconvert_exporter": "python",
   "pygments_lexer": "ipython3",
   "version": "3.6.4"
  }
 },
 "nbformat": 4,
 "nbformat_minor": 2
}
