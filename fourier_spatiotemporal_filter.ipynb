{
 "cells": [
  {
   "cell_type": "markdown",
   "metadata": {},
   "source": [
    "## Stimuli for Psychophysics Experiments based on spatio-temporal fourier representation"
   ]
  },
  {
   "cell_type": "code",
   "execution_count": null,
   "metadata": {},
   "outputs": [],
   "source": [
    "%matplotlib inline\n",
    "%config InlineBackend.print_figure_kwargs = {'dpi' : 200} #plotting pretty\n",
    "\n",
    "import imageio\n",
    "import matplotlib.pyplot as plt\n",
    "import numpy as np\n",
    "import os\n",
    "import scipy.fftpack\n",
    "import scipy.signal\n",
    "from scipy import interpolate\n",
    "#from tqdm import tqdm_notebook\n",
    "import imp as imp\n",
    "\n",
    "import utils.getstim as getstim\n",
    "import utils.imtools as imtools\n",
    "import utils.fouriertools as ftools\n",
    "import utils.wavelettools as wtools"
   ]
  },
  {
   "cell_type": "code",
   "execution_count": null,
   "metadata": {},
   "outputs": [
    {
     "name": "stdout",
     "output_type": "stream",
     "text": [
      "Max stimulus resolution when viewed at 2°: 270.0 CPD\n"
     ]
    },
    {
     "name": "stderr",
     "output_type": "stream",
     "text": [
      "/home/vasha/research/wavelet_stim/utils/fouriertools.py:623: RuntimeWarning: divide by zero encountered in log10\n",
      "  plot_spectrum = 20*np.log10(plot_spectrum)\n",
      "/home/vasha/anaconda3/lib/python3.6/site-packages/matplotlib/ticker.py:2206: UserWarning: Data has no positive values, and therefore cannot be log-scaled.\n",
      "  \"Data has no positive values, and therefore cannot be \"\n"
     ]
    },
    {
     "name": "stdout",
     "output_type": "stream",
     "text": [
      "Wrote filtered_stims/spatiotemporal/randnoise_270cpd_30fps_sharp_1cpd_1fps/frame_30.png\n",
      "Wrote filtered_stims/spatiotemporal/randnoise_270cpd_30fps_sharp_1cpd_6fps/frame_30.png\n",
      "Wrote filtered_stims/spatiotemporal/randnoise_270cpd_30fps_sharp_1cpd_11fps/frame_30.png\n",
      "Wrote filtered_stims/spatiotemporal/randnoise_270cpd_30fps_sharp_91cpd_1fps/frame_30.png\n",
      "Wrote filtered_stims/spatiotemporal/randnoise_270cpd_30fps_sharp_91cpd_6fps/frame_30.png\n",
      "Wrote filtered_stims/spatiotemporal/randnoise_270cpd_30fps_sharp_91cpd_11fps/frame_30.png\n",
      "Wrote filtered_stims/spatiotemporal/randnoise_270cpd_30fps_sharp_181cpd_1fps/frame_30.png\n",
      "Wrote filtered_stims/spatiotemporal/randnoise_270cpd_30fps_sharp_181cpd_6fps/frame_30.png\n",
      "Wrote filtered_stims/spatiotemporal/randnoise_270cpd_30fps_sharp_181cpd_11fps/frame_30.png\n"
     ]
    }
   ],
   "source": [
    "imp.reload(getstim)\n",
    "imp.reload(ftools)\n",
    "\n",
    "# stimulus parameters\n",
    "# spatial\n",
    "stim_deg = 2\n",
    "stim_px_w = 1080\n",
    "stim_px_h = 1080\n",
    "# temporal\n",
    "stim_secs = 1\n",
    "stim_fps = 30\n",
    "\n",
    "# calc cpd\n",
    "stim_cpd = (stim_px_w/2)/stim_deg\n",
    "# calc frames per second\n",
    "stim_cps = stim_fps/2 #this is our nyquist\n",
    "stim_frames = stim_fps * stim_secs\n",
    "\n",
    "print(f'Max stimulus resolution when viewed at {stim_deg}°: {stim_cpd:.1f} CPD')\n",
    "spatial_cutoffs = np.arange(1,stim_cpd, stim_cpd//3)\n",
    "temporal_cutoffs = np.arange(1,stim_cps, stim_cps//3)\n",
    "#spatial_cut_offs = [np.sqrt(2)*stim_fps, stim_fps, 250, 220, 200, 180, 150, 120, 100, 50, 10, 5, 1]\n",
    "\n",
    "# generate stimuli\n",
    "step_stim = getstim.step_stim(stim_px_w, stim_px_h, len_frames=stim_frames)\n",
    "randstim = imtools.rescale_255(np.random.rand(*np.shape(step_stim)))\n",
    "\n",
    "getstim.generate_spatiotemporal_filtered_stims(randstim, stim_cpd, spatial_cutoffs, stim_fps, temporal_cutoffs, filt='sharp', stim_type='randnoise')\n",
    "getstim.generate_spatiotemporal_filtered_stims(randstim, stim_cpd, spatial_cutoffs, stim_fps, temporal_cutoffs, filt='cosine_step', stim_type='randnoise')\n",
    "#getstim.generate_spatiotemporal_filtered_stims(step_stim, stim_cpd, spatial_cuttoffs, stim_fps, temporal_cut_offs, filt='sharp', stim_type='stepfun')\n",
    "#getstim.generate_spatiotemporal_filtered_stims(step_stim, stim_cpd, spatial_cuttoffs, stim_fps, temporal_cut_offs, filt='cosine_step', stim_type='stepfun')\n",
    "#getstim.generate_spatiotemporal_filtered_stims(step_stim, stim_cpd, spatial_cuttoffs, stim_fps, temporal_cut_offs, filt='gauss_step', stim_type='stepfun')\n",
    "#getstim.generate_spatiotemporal_filtered_stims(step_stim, stim_cpd, spatial_cuttoffs, stim_fps, temporal_cut_offs, filt='gauss_taper', stim_type='stepfun')"
   ]
  },
  {
   "cell_type": "code",
   "execution_count": null,
   "metadata": {},
   "outputs": [],
   "source": [
    "step_stim = getstim.step_stim(stim_px_w, stim_px_h, len_frames=stim_frames)\n"
   ]
  },
  {
   "cell_type": "code",
   "execution_count": null,
   "metadata": {},
   "outputs": [],
   "source": []
  }
 ],
 "metadata": {
  "kernelspec": {
   "display_name": "Python 3",
   "language": "python",
   "name": "python3"
  },
  "language_info": {
   "codemirror_mode": {
    "name": "ipython",
    "version": 3
   },
   "file_extension": ".py",
   "mimetype": "text/x-python",
   "name": "python",
   "nbconvert_exporter": "python",
   "pygments_lexer": "ipython3",
   "version": "3.6.4"
  }
 },
 "nbformat": 4,
 "nbformat_minor": 2
}
